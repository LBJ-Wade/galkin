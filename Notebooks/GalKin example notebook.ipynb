{
 "cells": [
  {
   "cell_type": "markdown",
   "metadata": {},
   "source": [
    "# GalKin example notebook"
   ]
  },
  {
   "cell_type": "markdown",
   "metadata": {},
   "source": [
    "## configure GalKin"
   ]
  },
  {
   "cell_type": "code",
   "execution_count": 1,
   "metadata": {
    "collapsed": false
   },
   "outputs": [
    {
     "name": "stdout",
     "output_type": "stream",
     "text": [
      "1553.01805628 1786.98950495 815.309150626\n"
     ]
    }
   ],
   "source": [
    "# light profile\n",
    "light_profile = 'Hernquist'\n",
    "kwargs_light = {'r_eff': 0.5}  # effective half light radius (2d projected) in arcsec\n",
    "\n",
    "# mass profile\n",
    "mass_profile = 'power_law'\n",
    "kwargs_profile = {'theta_E': 1.5, 'gamma': 2.0}  # Einstein radius (arcsec) and power-law slope\n",
    "\n",
    "# anisotropy profile\n",
    "anisotropy_type = 'r_ani'\n",
    "kwargs_anisotropy = {'r_ani': .5}  # anisotropy radius [arcsec]\n",
    "\n",
    "# aperture as shell\n",
    "aperture_type = 'shell'\n",
    "kwargs_aperture_inner = {'r_in': 0., 'r_out':0.3, 'center_dec': 0, 'center_ra':0}\n",
    "\n",
    "kwargs_aperture_outer = {'r_in': 0.3, 'r_out':0.7, 'center_dec': 0, 'center_ra':0}\n",
    "\n",
    "# aperture as slit\n",
    "#aperture_type = 'slit'\n",
    "#kwargs_aperture = {'length': 3.8, 'width': 0.9, 'center_ra': 0, 'center_dec': 0, 'angle': 0}\n",
    "\n",
    "psf_fwhm = 0.1  # Gaussian FWHM psf\n",
    "\n",
    "# redshifts\n",
    "if False:\n",
    "    z_d = 0.745\n",
    "    z_s = 1.789\n",
    "    from lenstronomy.Cosmo.cosmo_properties import CosmoProp\n",
    "    cosmoProp = CosmoProp(z_lens=z_d, z_source=z_s)\n",
    "    D_d = cosmoProp.dist_OL\n",
    "    D_s = cosmoProp.dist_OS\n",
    "    D_ds = cosmoProp.dist_LS\n",
    "else:\n",
    "    D_d = 1553.01805628\n",
    "    D_s = 1786.98950495\n",
    "    D_ds = 815.309150626\n",
    "print D_d, D_s, D_ds\n",
    "kwargs_cosmo = {'D_d': D_d, 'D_s': D_s, 'D_ds': D_ds}\n",
    "\n",
    "from galkin.galkin import GalKin\n",
    "\n",
    "galkin = GalKin(aperture=aperture_type, mass_profile=mass_profile, light_profile=light_profile, anisotropy_type=anisotropy_type, psf_fwhm=psf_fwhm, kwargs_cosmo=kwargs_cosmo)\n"
   ]
  },
  {
   "cell_type": "code",
   "execution_count": 2,
   "metadata": {
    "collapsed": false
   },
   "outputs": [
    {
     "name": "stdout",
     "output_type": "stream",
     "text": [
      "339.979706911036\n",
      "296.190657684012\n"
     ]
    }
   ],
   "source": [
    "sigma = galkin.vel_disp(kwargs_profile, kwargs_aperture_inner, kwargs_light, kwargs_anisotropy, num=1000)\n",
    "print sigma\n",
    "\n",
    "sigma = galkin.vel_disp(kwargs_profile, kwargs_aperture_outer, kwargs_light, kwargs_anisotropy, num=1000)\n",
    "print sigma"
   ]
  },
  {
   "cell_type": "code",
   "execution_count": null,
   "metadata": {
    "collapsed": true
   },
   "outputs": [],
   "source": []
  }
 ],
 "metadata": {
  "kernelspec": {
   "display_name": "Python 2",
   "language": "python",
   "name": "python2"
  },
  "language_info": {
   "codemirror_mode": {
    "name": "ipython",
    "version": 2
   },
   "file_extension": ".py",
   "mimetype": "text/x-python",
   "name": "python",
   "nbconvert_exporter": "python",
   "pygments_lexer": "ipython2",
   "version": "2.7.13"
  }
 },
 "nbformat": 4,
 "nbformat_minor": 0
}
